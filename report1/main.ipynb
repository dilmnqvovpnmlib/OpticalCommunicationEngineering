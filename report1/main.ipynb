{
 "cells": [
  {
   "cell_type": "code",
   "execution_count": 23,
   "metadata": {},
   "outputs": [],
   "source": [
    "import numpy as np\n",
    "import matplotlib.pyplot as plt"
   ]
  },
  {
   "cell_type": "markdown",
   "metadata": {},
   "source": [
    "# 問題2 (2)"
   ]
  },
  {
   "cell_type": "code",
   "execution_count": 18,
   "metadata": {},
   "outputs": [
    {
     "name": "stdout",
     "output_type": "stream",
     "text": [
      "65359.47712418301\n",
      "1.5972000000000002e-05\n"
     ]
    }
   ],
   "source": [
    "A = 2 * 5 * pow(10, -2) / (1.53 * pow(10, -6))\n",
    "B = pow(2.2, 3) * 3 * pow(10, -11) / (2 * pow(10, -5))\n",
    "print(A)\n",
    "print(B)"
   ]
  },
  {
   "cell_type": "code",
   "execution_count": 19,
   "metadata": {},
   "outputs": [
    {
     "name": "stdout",
     "output_type": "stream",
     "text": [
      "137740.56786877033\n"
     ]
    }
   ],
   "source": [
    "V = (2.2 - 1 / (2 * A)) / B\n",
    "print(V)"
   ]
  },
  {
   "cell_type": "code",
   "execution_count": 20,
   "metadata": {},
   "outputs": [
    {
     "name": "stdout",
     "output_type": "stream",
     "text": [
      "137741.5257951415\n"
     ]
    }
   ],
   "source": [
    "V = (2.2 + 1 / (2 * A)) / B\n",
    "print(V)"
   ]
  },
  {
   "cell_type": "markdown",
   "metadata": {},
   "source": [
    "# 問題3\n"
   ]
  },
  {
   "cell_type": "code",
   "execution_count": 35,
   "metadata": {},
   "outputs": [
    {
     "data": {
      "image/png": "[encoded data removed]",
      "text/plain": [
       "<Figure size 432x288 with 1 Axes>"
      ]
     },
     "metadata": {
      "needs_background": "light"
     },
     "output_type": "display_data"
    }
   ],
   "source": [
    "R=0.9 # [A/W]\n",
    "I_d = pow(10, -9) # [A]\n",
    "T = 300 # [K]\n",
    "R_L = pow(10, 3) # [Ω]\n",
    "Be = 10 * pow(10, 9) # [Hz]\n",
    "Kb = 1.37 * pow(10, -23) # [J/K]\n",
    "q = 1.6 * pow(10, -19)\n",
    "\n",
    "x = np.linspace(-60, -20, 100)\n",
    "# plt.figure(figsize=(3,2))\n",
    "P_I = pow(10, x/10) # [mw]\n",
    "\n",
    "# ショット雑音が支配的な時\n",
    "SNR_1 = (R * P_I) ** 2 / (2 * q * (R * P_I) * Be)\n",
    "# 熱雑音が支配的な時\n",
    "SNR_2 = ((R * P_I) ** 2) * R_L / (2 * q * I_d * Be + 4 * Kb * T * Be)\n",
    "# 一般的な条件の時\n",
    "SNR_3 = ((R * P_I) ** 2) * R_L / (2 * q * (R * P_I + I_d) * Be * R_L + 4 * Kb * T * Be)\n",
    "\n",
    "\n",
    "plt.plot(x,np.log10(SNR_1), label='Shot', color='blue')\n",
    "plt.plot(x,np.log10(SNR_2), label='Thermal', color='red')\n",
    "plt.plot(x,np.log10(SNR_3), label='Shot and Thermal', color='black')\n",
    "plt.xlabel('dbm')\n",
    "plt.ylabel('SNR (Log scale)')\n",
    "# plt.legend()\n",
    "plt.show()"
   ]
  }
 ],
 "metadata": {
  "kernelspec": {
   "display_name": "Python 3",
   "language": "python",
   "name": "python3"
  },
  "language_info": {
   "codemirror_mode": {
    "name": "ipython",
    "version": 3
   },
   "file_extension": ".py",
   "mimetype": "text/x-python",
   "name": "python",
   "nbconvert_exporter": "python",
   "pygments_lexer": "ipython3",
   "version": "3.6.8"
  }
 },
 "nbformat": 4,
 "nbformat_minor": 2
}
